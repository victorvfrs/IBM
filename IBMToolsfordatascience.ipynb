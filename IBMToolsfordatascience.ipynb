{
 "cells": [
  {
   "cell_type": "markdown",
   "metadata": {},
   "source": [
    "<center>\n",
    "    <img src=\"https://s3-api.us-geo.objectstorage.softlayer.net/cf-courses-data/CognitiveClass/Logos/organization_logo/organization_logo.png\" width=\"300\" alt=\"cognitiveclass.ai logo\"  />\n",
    "</center>\n"
   ]
  },
  {
   "cell_type": "markdown",
   "metadata": {
    "tags": []
   },
   "source": [
    "#### Add your code below following the instructions given in the course\n"
   ]
  },
  {
   "cell_type": "markdown",
   "metadata": {},
   "source": [
    "# <h1>My Jupyter Notebook on IBM Watson Studio<h1>"
   ]
  },
  {
   "cell_type": "markdown",
   "metadata": {},
   "source": [
    "**Victor Santiago** \\\n",
    "Computer Engineering student"
   ]
  },
  {
   "cell_type": "markdown",
   "metadata": {},
   "source": [
    "*My interest in data science started with my curiosity about how we can extract a pattern based on some unconscious actions and use this information to generate the most varied insights*"
   ]
  },
  {
   "cell_type": "markdown",
   "metadata": {},
   "source": [
    "<h3>My code tests the bhaskara formula returning 0 if there is no real root<h3>"
   ]
  },
  {
   "cell_type": "code",
   "execution_count": 2,
   "metadata": {},
   "outputs": [
    {
     "name": "stdout",
     "output_type": "stream",
     "text": [
      "(20.0, 5.0)\n"
     ]
    }
   ],
   "source": [
    "import numpy as np\n",
    "\n",
    "\n",
    "def bhaskara(a, b, c):\n",
    "    delta = ((b**2) - (4*a*c))\n",
    "    if (delta < 0):\n",
    "        print(\"there is no real root\")\n",
    "        return 0\n",
    "    else:\n",
    "        x1 = ((-b + np.sqrt(delta))/(a*2))\n",
    "        x2 = ((-b - np.sqrt(delta))/(a*2))\n",
    "        return x1, x2\n",
    "\n",
    "\n",
    "print(bhaskara(1, -25, 100))"
   ]
  },
  {
   "cell_type": "markdown",
   "metadata": {},
   "source": [
    "1. My numbered list\n",
    "    * My bullet list \n",
    "2. Google link:\n",
    "    [Google](https://www.google.com/ \"google.com\")\n",
    "3. Block quote:\n",
    "    >BLOCKQUOTE\n",
    "4. ~~nevermind~~"
   ]
  },
  {
   "cell_type": "markdown",
   "metadata": {},
   "source": [
    "My table:\n",
    "    <table>\n",
    "    <thead>\n",
    "    <tr>\n",
    "      <th>First Parameter</th>\n",
    "      <th>Second Parameter</th>\n",
    "    </tr>\n",
    "  </thead>\n",
    "  <tbody>\n",
    "    <tr>\n",
    "      <td>name</td>\n",
    "      <td>age</td>\n",
    "    </tr>\n",
    "    <tr>\n",
    "      <td>Victor</td>\n",
    "      <td>28</td>\n",
    "    </tr>\n",
    "  </tbody>\n",
    "</table>"
   ]
  }
 ],
 "metadata": {
  "kernelspec": {
   "display_name": "Python",
   "language": "python",
   "name": "conda-env-python-py"
  },
  "language_info": {
   "codemirror_mode": {
    "name": "ipython",
    "version": 3
   },
   "file_extension": ".py",
   "mimetype": "text/x-python",
   "name": "python",
   "nbconvert_exporter": "python",
   "pygments_lexer": "ipython3",
   "version": "3.7.12"
  }
 },
 "nbformat": 4,
 "nbformat_minor": 4
}
